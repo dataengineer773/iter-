{
 "cells": [
  {
   "cell_type": "code",
   "execution_count": 1,
   "id": "659ccf62-4d6b-417a-a6e5-096d75dff489",
   "metadata": {},
   "outputs": [],
   "source": [
    "\n",
    "class Sentence:\n",
    "    def __init__(self, text):\n",
    "        self.text = text\n",
    "        self.words = RE_WORD.findall(text)\n",
    "\n",
    "    def __gettim__(self, index):\n",
    "        return self.words[index]\n",
    "\n",
    "    def __len__(self):\n",
    "        return len(self.words)\n",
    "\n",
    "    def __repr__(self):\n",
    "        return 'Sentence(%s)' % reprlib.repr(self.text)"
   ]
  },
  {
   "cell_type": "code",
   "execution_count": 2,
   "id": "e1a417ed-dd33-4e59-af18-67851f9ffa55",
   "metadata": {},
   "outputs": [],
   "source": [
    "import re\n",
    "import reprlib\n",
    "\n",
    "RE_WORD = re.compile(r'\\w+')"
   ]
  },
  {
   "cell_type": "code",
   "execution_count": 3,
   "id": "992642e6-9c01-424b-a96b-2459efed2c3a",
   "metadata": {},
   "outputs": [],
   "source": [
    "s3 = Sentence('Life of Brain')"
   ]
  },
  {
   "cell_type": "code",
   "execution_count": 4,
   "id": "e4c84d07-7c81-4c05-add0-f6f0003cdbff",
   "metadata": {},
   "outputs": [],
   "source": [
    "class Sentence:\n",
    "    def __init__(self, text):\n",
    "        self.words = text.split()\n",
    "\n",
    "    def __iter__(self):\n",
    "        return iter(self.words)\n"
   ]
  },
  {
   "cell_type": "code",
   "execution_count": 5,
   "id": "25de7ef4-3648-45eb-a3cd-2473b5511bb0",
   "metadata": {},
   "outputs": [],
   "source": [
    "it = iter(s3.words)"
   ]
  },
  {
   "cell_type": "code",
   "execution_count": 6,
   "id": "e698086f-3137-4407-9b89-50562ced9cce",
   "metadata": {},
   "outputs": [
    {
     "data": {
      "text/plain": [
       "<list_iterator at 0x25cc6d34a00>"
      ]
     },
     "execution_count": 6,
     "metadata": {},
     "output_type": "execute_result"
    }
   ],
   "source": [
    "it # #doctest : +ELLIPSTS\n"
   ]
  },
  {
   "cell_type": "code",
   "execution_count": 7,
   "id": "d8b9cffa-6176-408d-a3ef-b2b4e3bee73b",
   "metadata": {},
   "outputs": [
    {
     "data": {
      "text/plain": [
       "'Life'"
      ]
     },
     "execution_count": 7,
     "metadata": {},
     "output_type": "execute_result"
    }
   ],
   "source": [
    "next(it)"
   ]
  },
  {
   "cell_type": "code",
   "execution_count": 8,
   "id": "3a73a525-e3d9-4aa2-b04e-a60797305ba9",
   "metadata": {},
   "outputs": [
    {
     "data": {
      "text/plain": [
       "'of'"
      ]
     },
     "execution_count": 8,
     "metadata": {},
     "output_type": "execute_result"
    }
   ],
   "source": [
    "next(it)"
   ]
  },
  {
   "cell_type": "code",
   "execution_count": 9,
   "id": "bb69c2df-a55c-45e7-bb01-5dabcc66a71d",
   "metadata": {},
   "outputs": [
    {
     "data": {
      "text/plain": [
       "'Brain'"
      ]
     },
     "execution_count": 9,
     "metadata": {},
     "output_type": "execute_result"
    }
   ],
   "source": [
    "next(it)"
   ]
  },
  {
   "cell_type": "code",
   "execution_count": null,
   "id": "7e96c4ae-6ed3-48bb-9c0d-487fe0da69a3",
   "metadata": {},
   "outputs": [],
   "source": []
  }
 ],
 "metadata": {
  "kernelspec": {
   "display_name": "Python 3 (ipykernel)",
   "language": "python",
   "name": "python3"
  },
  "language_info": {
   "codemirror_mode": {
    "name": "ipython",
    "version": 3
   },
   "file_extension": ".py",
   "mimetype": "text/x-python",
   "name": "python",
   "nbconvert_exporter": "python",
   "pygments_lexer": "ipython3",
   "version": "3.12.3"
  }
 },
 "nbformat": 4,
 "nbformat_minor": 5
}
